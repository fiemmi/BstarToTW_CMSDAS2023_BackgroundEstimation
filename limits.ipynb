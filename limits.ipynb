{
 "cells": [
  {
   "cell_type": "code",
   "execution_count": 11,
   "metadata": {},
   "outputs": [
    {
     "name": "stdout",
     "output_type": "stream",
     "text": [
      "Welcome to JupyROOT 6.14/09\n"
     ]
    },
    {
     "name": "stderr",
     "output_type": "stream",
     "text": [
      "/cvmfs/cms.cern.ch/slc7_amd64_gcc700/lcg/root/6.14.09-pafccj5/lib/ROOT.py:577: UserWarning: \"from ROOT import *\" is not supported under IPython\n",
      "  warnings.warn( '\"from ROOT import *\" is not supported under IPython' )\n"
     ]
    }
   ],
   "source": [
    "from optparse import OptionParser\n",
    "import subprocess\n",
    "import array\n",
    "from  array import array\n",
    "import numpy as np\n",
    "import json\n",
    "\n",
    "import ROOT\n",
    "from ROOT import TGraph, TLatex, TFile, TLine, TLegend, TCanvas, kOrange, kGreen, kTRUE, gStyle, gROOT\n",
    "\n",
    "import header\n",
    "from header import WaitForJobs, make_smooth_graph, Inter\n",
    "import tdrstyle, CMS_lumi\n",
    "\n",
    "gStyle.SetOptStat(0)\n",
    "gROOT.SetBatch(kTRUE)\n",
    "\n"
   ]
  },
  {
   "cell_type": "code",
   "execution_count": 6,
   "metadata": {},
   "outputs": [],
   "source": [
    "year = '2017'\n",
    "signal = 'rsgluon'\n",
    "# signal = 'zprime10'\n",
    "# signal = 'zprime30'\n",
    "# signal = 'zprimeDM'\n",
    "\n",
    "\n",
    "cats = [\n",
    "    'cen0b_0x1',\n",
    "    'fwd0b_0x1',\n",
    "    'cen1b_3x1',\n",
    "    'fwd1b_3x1',\n",
    "    'cen2b_3x1',\n",
    "    'fwd2b_3x1',\n",
    "]\n"
   ]
  },
  {
   "cell_type": "code",
   "execution_count": 7,
   "metadata": {},
   "outputs": [],
   "source": [
    "# parser = OptionParser()\n",
    "\n",
    "# # parser.add_option('-t', '--tag', metavar='FILE', type='string', action='store',\n",
    "# #                 default   =   'dataBsOff',\n",
    "# #                 dest      =   'tag',\n",
    "# #                 help      =   'Tag ran over')\n",
    "# parser.add_option('-s', '--signals', metavar='FILE', type='string', action='store',\n",
    "#                 default   =   'bstar_signalsLH.txt',\n",
    "#                 dest      =   'signals',\n",
    "#                 help      =   'Text file containing the signal names and their corresponding cross sections')\n",
    "# parser.add_option('-P', '--plotOnly', action=\"store_true\",\n",
    "#                 default   =   False,\n",
    "#                 dest      =   'plotOnly',\n",
    "#                 help      =   'Only plots if True')\n",
    "# parser.add_option('--unblind', action=\"store_false\",\n",
    "#                 default   =   True,\n",
    "#                 dest      =   'blind',\n",
    "#                 help      =   'Only plot observed limit if false')\n",
    "# parser.add_option('--drawIntersection', action=\"store_true\",\n",
    "#                 default   =   False,\n",
    "#                 dest      =   'drawIntersection',\n",
    "#                 help      =   'Draw intersection values')\n",
    "# parser.add_option('-l', '--lumi', metavar='F', type='string', action='store',\n",
    "#                 default       =       '35.9',\n",
    "#                 dest          =       'lumi',\n",
    "#                 help          =       'Luminosity option')\n",
    "# parser.add_option('-m', '--mod', metavar='F', type='string', action='store',\n",
    "#                 default       =       '',\n",
    "#                 dest          =       'mod',\n",
    "#                 help          =       'Modification to limit title on y-axis. For example, different handedness of the signal')\n",
    "\n",
    "# (options, args) = parser.parse_args()\n",
    "\n"
   ]
  },
  {
   "cell_type": "code",
   "execution_count": 8,
   "metadata": {},
   "outputs": [],
   "source": [
    "drawIntersection = False\n",
    "blind = False"
   ]
  },
  {
   "cell_type": "code",
   "execution_count": 12,
   "metadata": {},
   "outputs": [],
   "source": [
    "signal_df = json.load(open('signal_xs.json'))"
   ]
  },
  {
   "cell_type": "code",
   "execution_count": 13,
   "metadata": {},
   "outputs": [],
   "source": [
    "# tag = options.tag\n",
    "# Open signal file\n",
    "\n",
    "\n",
    "period = 1\n",
    "if '2018' in year:\n",
    "    period = 18\n",
    "    lumi = '60'\n",
    "elif '2017' in year:\n",
    "    period = 17\n",
    "    lumi = '41.5'\n",
    "elif '2016' in year:\n",
    "    period = 16\n",
    "    lumi = '35.9'\n",
    "\n",
    "signal_string = \"g_{KK}\"\n",
    "legend_string = \"\"\n",
    "\n",
    "if 'zprime' in signal:\n",
    "    signal_string = \"Z'\"\n",
    "    \n",
    "    if 'DM' in signal:\n",
    "        signal_string = \"Z'_{DM}\"\n",
    "    elif '10' in signal:\n",
    "        legend_string = \"10% Width\"\n",
    "    elif '30' in signal:\n",
    "        legend_string = \"30% Width\"\n",
    "    \n"
   ]
  },
  {
   "cell_type": "code",
   "execution_count": 24,
   "metadata": {
    "scrolled": false
   },
   "outputs": [
    {
     "name": "stdout",
     "output_type": "stream",
     "text": [
      "regions/2017/ttbarfits_cen2b_3x1\n"
     ]
    }
   ],
   "source": [
    "\n",
    "# directory where signal directories are located\n",
    "directory = 'regions/'+year+'/ttbarfits_inclusive'\n",
    "print directory\n",
    "signame = 'signalRSGluon'\n",
    "\n",
    "tag = ''\n",
    "if 'zprime' in signal: \n",
    "    signame = 'signalZPrime'\n",
    "    if 'DM' in signal:\n",
    "        tag = '_DM'\n",
    "    elif '10' in signal:\n",
    "        legend_string = \"10% Width\"\n",
    "        tag = '_10'\n",
    "    elif '30' in signal:\n",
    "        tag = '_30'\n",
    "\n",
    "\n",
    "signal_mass  = signal_df[signal]['mass']\n",
    "signal_names = [directory + '/' + signame + str(int(s*1000)) + tag + '_area' for s in signal_mass]\n",
    "theory_xsecs = signal_df[signal]['theory']\n",
    "signal_xsecs = signal_df[signal]['expected']"
   ]
  },
  {
   "cell_type": "code",
   "execution_count": 25,
   "metadata": {},
   "outputs": [
    {
     "data": {
      "text/plain": [
       "['regions/2017/ttbarfits_cen2b_3x1/signalRSGluon1000_area',\n",
       " 'regions/2017/ttbarfits_cen2b_3x1/signalRSGluon1500_area',\n",
       " 'regions/2017/ttbarfits_cen2b_3x1/signalRSGluon2000_area',\n",
       " 'regions/2017/ttbarfits_cen2b_3x1/signalRSGluon2500_area',\n",
       " 'regions/2017/ttbarfits_cen2b_3x1/signalRSGluon3000_area',\n",
       " 'regions/2017/ttbarfits_cen2b_3x1/signalRSGluon3500_area']"
      ]
     },
     "execution_count": 25,
     "metadata": {},
     "output_type": "execute_result"
    }
   ],
   "source": [
    "signal_names"
   ]
  },
  {
   "cell_type": "code",
   "execution_count": 26,
   "metadata": {},
   "outputs": [],
   "source": [
    "# Initialize arrays to eventually store the points on the TGraph\n",
    "x_mass = array('d')\n",
    "y_limit = array('d')\n",
    "y_mclimit  = array('d')\n",
    "y_mclimitlow68 = array('d')\n",
    "y_mclimitup68 = array('d')\n",
    "y_mclimitlow95 = array('d')\n",
    "y_mclimitup95 = array('d')\n"
   ]
  },
  {
   "cell_type": "code",
   "execution_count": 27,
   "metadata": {},
   "outputs": [],
   "source": [
    "\n",
    "tdrstyle.setTDRStyle()\n",
    "\n",
    "\n",
    "# For each signal\n",
    "for this_index, this_name in enumerate(signal_names):\n",
    "    # Setup call for one of the signal\n",
    "    this_xsec = signal_xsecs[this_index]\n",
    "    this_mass = signal_mass[this_index]\n",
    "    this_output = TFile.Open(this_name+'/higgsCombineTest.AsymptoticLimits.mH120.root')\n",
    "    if not this_output: continue\n",
    "    this_tree = this_output.Get('limit')\n",
    "    \n",
    "    this_xsec = this_xsec\n",
    "    \n",
    "    \n",
    "    # Set the mass (x axis)\n",
    "    x_mass.append(this_mass)\n",
    "    # Grab the cross section limits (y axis)\n",
    "    for ievent in range(int(this_tree.GetEntries())):\n",
    "        this_tree.GetEntry(ievent)\n",
    "        \n",
    "        \n",
    "        \n",
    "        # Nominal expected\n",
    "        if this_tree.quantileExpected == 0.5:\n",
    "            y_mclimit.append(this_tree.limit*this_xsec)\n",
    "        # -1 sigma expected\n",
    "        if round(this_tree.quantileExpected,2) == 0.16:\n",
    "            y_mclimitlow68.append(this_tree.limit*this_xsec)\n",
    "        # +1 sigma expected\n",
    "        if round(this_tree.quantileExpected,2) == 0.84:\n",
    "            y_mclimitup68.append(this_tree.limit*this_xsec)\n",
    "        # -2 sigma expected\n",
    "        if round(this_tree.quantileExpected,3) == 0.025:\n",
    "            y_mclimitlow95.append(this_tree.limit*this_xsec)\n",
    "        # +2 sigma expected\n",
    "        if round(this_tree.quantileExpected,3) == 0.975:\n",
    "            y_mclimitup95.append(this_tree.limit*this_xsec)\n",
    "\n",
    "        # Observed (plot only if unblinded)\n",
    "        if this_tree.quantileExpected == -1: \n",
    "            if not blind:\n",
    "                print('DEBUG : appending to y_limit')\n",
    "                print('appending: {} to y_limit'.format(this_tree.limit*this_xsec))\n",
    "                y_limit.append(this_tree.limit*this_xsec)\n",
    "            else:\n",
    "                y_limit.append(0.0)\n",
    "    "
   ]
  },
  {
   "cell_type": "code",
   "execution_count": 28,
   "metadata": {},
   "outputs": [
    {
     "name": "stdout",
     "output_type": "stream",
     "text": [
      "---------DEBUG-----------\n",
      "x_mass: array('d', [1.0, 1.5, 2.0, 2.5, 3.0, 3.5])\n",
      "len x_mass: 6\n",
      "y_mclimit: array('d', [16.3475390625, 0.8890078125, 0.246460546875, 0.11307216796875, 0.0706431640625, 0.056196875])\n",
      "Blinded\n",
      "expectedMassLimit 3.5895\n",
      "expectedCrossLimit 0.0534073051953\n",
      "Expected limit: 3.5895 +0.108 -2.58 TeV\n",
      "saving limits/pdf/limits_combine_rsgluon_2017.pdf\n",
      "saving limits/png/limits_combine_rsgluon_2017.png\n"
     ]
    },
    {
     "name": "stderr",
     "output_type": "stream",
     "text": [
      "Warning in <TCanvas::Constructor>: Deleting canvas with same name: climits\n",
      "Info in <TCanvas::Print>: pdf file limits/pdf/limits_combine_rsgluon_2017.pdf has been created\n",
      "Info in <TCanvas::Print>: png file limits/png/limits_combine_rsgluon_2017.png has been created\n"
     ]
    }
   ],
   "source": [
    "\n",
    "\n",
    "# Make Canvas and TGraphs (mostly stolen from other code that formats well)\n",
    "climits = TCanvas(\"climits\", \"climits\",700, 600)\n",
    "climits.SetLogy(True)\n",
    "climits.SetLeftMargin(.15)\n",
    "climits.SetBottomMargin(.15)  \n",
    "climits.SetTopMargin(0.1)\n",
    "climits.SetRightMargin(0.05)\n",
    "\n",
    "\n",
    "# Expected\n",
    "print('---------DEBUG-----------')\n",
    "print('x_mass: {}'.format(x_mass))\n",
    "print('len x_mass: {}'.format(len(x_mass)))\n",
    "print('y_mclimit: {}'.format(y_mclimit))\n",
    "g_mclimit = TGraph(len(x_mass), x_mass, y_mclimit)\n",
    "g_mclimit.SetTitle(\"\")\n",
    "g_mclimit.SetMarkerStyle(21)\n",
    "g_mclimit.SetMarkerColor(1)\n",
    "g_mclimit.SetLineColor(1)\n",
    "g_mclimit.SetLineStyle(2)\n",
    "g_mclimit.SetLineWidth(3)\n",
    "g_mclimit.SetMarkerSize(0.)\n",
    "\n",
    "\n",
    "ymax = 1e4\n",
    "xmin = signal_mass[0]\n",
    "xmax = signal_mass[-1]\n",
    "\n",
    "\n",
    "linestyle = \"l\"\n",
    "fillstyle = \"lf\"\n",
    "\n",
    "blind=True\n",
    "# Observed\n",
    "if not blind:\n",
    "    print 'Not blinded'\n",
    "    print('---------------DEBUG---------------------')\n",
    "    print('x_mass: {}'.format(x_mass))\n",
    "    print('len x_mass: {}'.format(len(x_mass)))\n",
    "    print('y_limit: {}'.format(y_limit))\n",
    "    g_limit = TGraph(len(x_mass), x_mass, y_limit)\n",
    "    g_limit.SetTitle(\"\")\n",
    "    g_limit.SetMarkerStyle(7)\n",
    "    g_limit.SetMarkerColor(1)\n",
    "    g_limit.SetLineColor(1)\n",
    "    g_limit.SetLineWidth(2)\n",
    "    g_limit.SetMarkerSize(1) #0.5\n",
    "    g_limit.GetYaxis().SetRangeUser(0., 80.)\n",
    "    g_limit.GetXaxis().SetRangeUser(xmin, xmax)\n",
    "    g_limit.SetMinimum(0.3e-2) #0.005\n",
    "    g_limit.SetMaximum(ymax)\n",
    "else:\n",
    "    print 'Blinded'\n",
    "    g_mclimit.GetXaxis().SetTitle(\"m_{\"+signal_string+\" [TeV]\")  # NOT GENERIC\n",
    "    g_mclimit.GetYaxis().SetTitle(\"#sigma_{\"+signal_string+\" #times B(\"+signal_string+\" #rightarrow t #bar{t}) [pb]\") # NOT GENERIC\n",
    "    g_mclimit.GetYaxis().SetRangeUser(0., 80.)\n",
    "    g_mclimit.GetXaxis().SetRangeUser(xmin, xmax)\n",
    "    g_mclimit.SetMinimum(0.3e-2) #0.005\n",
    "    g_mclimit.SetMaximum(ymax)  \n",
    "    \n",
    "\n",
    "# Will later be 1 and 2 sigma expected\n",
    "g_mcplus = TGraph(len(x_mass), x_mass, y_mclimitup68)\n",
    "g_mcminus = TGraph(len(x_mass), x_mass, y_mclimitlow68)\n",
    "\n",
    "g_mc2plus = TGraph(len(x_mass), x_mass, y_mclimitup95)\n",
    "g_mc2minus = TGraph(len(x_mass), x_mass, y_mclimitlow95)\n",
    "\n",
    "\n",
    "# Theory line\n",
    "graphWP = ROOT.TGraph()\n",
    "graphWP.SetTitle(\"\")\n",
    "graphWP.SetMarkerStyle(23)\n",
    "graphWP.SetMarkerColor(4)\n",
    "graphWP.SetMarkerSize(0.5)\n",
    "graphWP.GetYaxis().SetRangeUser(0., 80.)\n",
    "graphWP.GetXaxis().SetRangeUser(xmin, xmax)\n",
    "graphWP.SetMinimum(0.3e-2) #0.005\n",
    "graphWP.SetMaximum(ymax)\n",
    "for index,mass in enumerate(signal_mass):\n",
    "    xsec = theory_xsecs[index]\n",
    "    graphWP.SetPoint(index,    mass,   xsec    )\n",
    "\n",
    "graphWP.SetLineWidth(3)\n",
    "graphWP.SetLineColor(4)\n",
    "\n",
    "# 2 sigma expected\n",
    "g_error95 = make_smooth_graph(g_mc2minus, g_mc2plus)\n",
    "g_error95.SetFillColor(kOrange)\n",
    "g_error95.SetLineColor(0)\n",
    "\n",
    "# 1 sigma expected\n",
    "g_error = make_smooth_graph(g_mcminus, g_mcplus)\n",
    "g_error.SetFillColor( kGreen+1)\n",
    "g_error.SetLineColor(0)\n",
    "\n",
    "# Finally calculate the intercept\n",
    "expectedMassLimit, expectedCrossLimit = Inter(g_mclimit,graphWP) #if len(Inter(g_mclimit,graphWP)) > 0 else -1.0\n",
    "upLimit,trash = Inter(g_mcminus,graphWP) if len(Inter(g_mcminus,graphWP)) > 0 else -1.0\n",
    "lowLimit,trash = Inter(g_mcplus,graphWP) if len(Inter(g_mcplus,graphWP)) > 0 else -1.0\n",
    "\n",
    "print 'expectedMassLimit', expectedMassLimit\n",
    "print 'expectedCrossLimit', expectedCrossLimit\n",
    "\n",
    "if not blind:\n",
    "    g_limit.GetXaxis().SetTitle(\"m_{\"+signal_string+\"} [TeV]\")  # NOT GENERIC\n",
    "    g_limit.GetYaxis().SetTitle(\"#sigma_{\"+signal_string+\"} #times B(\"+signal_string+\" #rightarrow t #bar{t}) [pb]\") # NOT GENERIC\n",
    "    g_limit.GetXaxis().SetTitleSize(0.055)\n",
    "    g_limit.GetYaxis().SetTitleSize(0.05)\n",
    "    g_limit.Draw('ap')\n",
    "    g_error95.Draw(fillstyle)\n",
    "    g_error.Draw(fillstyle)\n",
    "    g_mclimit.Draw(\"ap\")\n",
    "    g_limit.Draw(\"ap\")\n",
    "\n",
    "    graphWP.Draw(linestyle)\n",
    "    g_limit.GetYaxis().SetTitleOffset(1.5)\n",
    "    g_limit.GetXaxis().SetTitleOffset(1.25)\n",
    "\n",
    "else:\n",
    "    g_mclimit.GetXaxis().SetTitle(\"m_{\"+signal_string+\"} [TeV]\")  # NOT GENERIC\n",
    "    g_mclimit.GetYaxis().SetTitle(\"#sigma_{\"+signal_string+\"} #times B(\"+signal_string+\" #rightarrow t #bar{t}) [pb]\") # NOT GENERIC\n",
    "    g_mclimit.GetXaxis().SetTitleSize(0.055)\n",
    "    g_mclimit.GetYaxis().SetTitleSize(0.05)\n",
    "    g_mclimit.Draw(\"ap\")\n",
    "    g_error95.Draw(fillstyle)\n",
    "    g_error.Draw(fillstyle)\n",
    "    g_mclimit.Draw(linestyle)\n",
    "    graphWP.Draw(linestyle)\n",
    "    g_mclimit.GetYaxis().SetTitleOffset(1.5)\n",
    "    g_mclimit.GetXaxis().SetTitleOffset(1.25)\n",
    "    \n",
    "# graphWP.Draw(\"c\")\n",
    "\n",
    "\n",
    "\n",
    "\n",
    "\n",
    "\n",
    "\n",
    "if drawIntersection:\n",
    "    expLineLabel = TPaveText(expectedMassLimit-300, expectedCrossLimit*2, expectedMassLimit+300, expectedCrossLimit*15, \"NB\")\n",
    "    expLineLabel.SetFillColorAlpha(kWhite,0)\n",
    "    expLineLabel.AddText(str(int(expectedMassLimit))+' TeV')\n",
    "    expLineLabel.Draw()\n",
    "\n",
    "print 'Expected limit: '+str(expectedMassLimit) + ' +'+str(upLimit-expectedMassLimit) +' -'+str(expectedMassLimit-lowLimit) + ' TeV' # NOT GENERIC\n",
    "if not blind:\n",
    "    obsMassLimit,obsCrossLimit = Inter(g_limit,graphWP) if len(Inter(g_limit,graphWP)) > 0 else -1.0\n",
    "    print 'Observed limit: '+str(obsMassLimit) + ' TeV'\n",
    "\n",
    "    obsLine = TLine(obsMassLimit,g_mclimit.GetMinimum(),obsMassLimit,obsCrossLimit)\n",
    "    obsLine.SetLineStyle(2)\n",
    "    obsLine.Draw()\n",
    "\n",
    "    if drawIntersection:\n",
    "        obsLineLabel = TPaveText(obsMassLimit-300, obsCrossLimit*3, obsMassLimit+300, obsCrossLimit*12,\"NB\")\n",
    "        obsLineLabel.SetFillColorAlpha(kWhite,0)\n",
    "        obsLineLabel.AddText(str(int(obsMassLimit))+' TeV')\n",
    "        obsLineLabel.Draw()\n",
    "\n",
    "        \n",
    "        \n",
    "        \n",
    "# Legend and draw\n",
    "\n",
    "\n",
    "\n",
    "gStyle.SetLegendFont(42)\n",
    "legend = TLegend(0.60, 0.60, 0.91, 0.87, '')\n",
    "legend.SetHeader(\"95% CL upper limits\")\n",
    "if not blind:\n",
    "    legend.AddEntry(g_limit, \"Observed\", \"l\")\n",
    "legend.AddEntry(g_mclimit, \"Median expected\",\"l\")\n",
    "legend.AddEntry(g_error, \"68% expected\", \"f\")\n",
    "legend.AddEntry(g_error95, \"95% expected\", \"f\")\n",
    "legend.AddEntry(graphWP, \"Theory \"+signal_string+\" \"+legend_string, \"l\")   # NOT GENERIC\n",
    "\n",
    "legend.SetBorderSize(0)\n",
    "legend.SetFillStyle(0)\n",
    "legend.SetLineColor(0)\n",
    "\n",
    "legend.Draw(\"same\")\n",
    "\n",
    "\n",
    "climits.RedrawAxis()\n",
    "\n",
    "CMS_lumi.extraText = 'Preliminary'\n",
    "CMS_lumi.lumiTextSize     = 0.4\n",
    "CMS_lumi.cmsTextSize      = 0.5\n",
    "\n",
    "CMS_lumi.CMS_lumi(climits, period, 11)\n",
    "\n",
    "\n",
    "savefilename = 'limits/pdf/limits_combine_' + signal + '_' + year + '.pdf'\n",
    "\n",
    "climits.SaveAs(savefilename)\n",
    "climits.SaveAs(savefilename.replace('pdf', 'png'))\n",
    "print 'saving ' + savefilename\n",
    "print 'saving ' + savefilename.replace('pdf', 'png')\n",
    "\n",
    "\n",
    "\n",
    "\n",
    "\n"
   ]
  },
  {
   "cell_type": "code",
   "execution_count": 29,
   "metadata": {},
   "outputs": [],
   "source": [
    "# del climits "
   ]
  },
  {
   "cell_type": "code",
   "execution_count": null,
   "metadata": {},
   "outputs": [],
   "source": []
  },
  {
   "cell_type": "code",
   "execution_count": 30,
   "metadata": {},
   "outputs": [
    {
     "data": {
      "image/png": "[encoded data removed]",
      "text/plain": [
       "<IPython.core.display.Image object>"
      ]
     },
     "metadata": {},
     "output_type": "display_data"
    }
   ],
   "source": [
    "climits.Draw()"
   ]
  },
  {
   "cell_type": "code",
   "execution_count": 5,
   "metadata": {},
   "outputs": [
    {
     "data": {
      "text/plain": [
       "array([ 800, 1100, 1400, 1700, 2000, 2300, 2600, 2900, 3200, 3500, 3800,\n",
       "       4100, 4400, 4700, 5000, 5300, 5600, 5900, 6200, 6500])"
      ]
     },
     "execution_count": 5,
     "metadata": {},
     "output_type": "execute_result"
    }
   ],
   "source": [
    "np.arange(800, 6800, 300)"
   ]
  },
  {
   "cell_type": "code",
   "execution_count": 2,
   "metadata": {},
   "outputs": [],
   "source": [
    "import numpy as np"
   ]
  },
  {
   "cell_type": "code",
   "execution_count": null,
   "metadata": {},
   "outputs": [],
   "source": []
  }
 ],
 "metadata": {
  "kernelspec": {
   "display_name": "Python 2",
   "language": "python",
   "name": "python2"
  },
  "language_info": {
   "codemirror_mode": {
    "name": "ipython",
    "version": 2
   },
   "file_extension": ".py",
   "mimetype": "text/x-python",
   "name": "python",
   "nbconvert_exporter": "python",
   "pygments_lexer": "ipython2",
   "version": "2.7.14+"
  }
 },
 "nbformat": 4,
 "nbformat_minor": 2
}
