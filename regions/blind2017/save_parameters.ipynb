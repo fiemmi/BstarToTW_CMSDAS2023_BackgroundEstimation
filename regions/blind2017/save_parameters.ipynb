{
 "cells": [
  {
   "cell_type": "code",
   "execution_count": 1,
   "metadata": {},
   "outputs": [],
   "source": [
    "import os, sys\n",
    "import json\n",
    "import numpy as np\n",
    "import pandas as pd"
   ]
  },
  {
   "cell_type": "code",
   "execution_count": 2,
   "metadata": {},
   "outputs": [
    {
     "data": {
      "text/plain": [
       "['ttbar_cats.json',\n",
       " 'ttbar_cen0b.json',\n",
       " 'ttbar_cen1b.json',\n",
       " 'ttbar_cen2b.json',\n",
       " 'ttbar_fwd0b.json',\n",
       " 'ttbar_fwd1b.json',\n",
       " 'ttbar_fwd2b.json',\n",
       " 'make_json.sh',\n",
       " 'ttbarfits_cen1b_3x1',\n",
       " 'ttbarfits_cen2b_3x1',\n",
       " 'cards.sh',\n",
       " 'ttbar.py',\n",
       " 'ttbarfits_fwd0b_0x1',\n",
       " 'ttbarfits_fwd1b_3x1',\n",
       " 'ttbarfits_fwd2b_3x1',\n",
       " 'ttbarfits_cen0b_0x1',\n",
       " 'asymptoticroot.sh',\n",
       " '.ipynb_checkpoints',\n",
       " 'save_parameters.ipynb']"
      ]
     },
     "execution_count": 2,
     "metadata": {},
     "output_type": "execute_result"
    }
   ],
   "source": [
    "os.listdir('./')"
   ]
  },
  {
   "cell_type": "code",
   "execution_count": 3,
   "metadata": {},
   "outputs": [],
   "source": [
    "dirs = [\n",
    "    'ttbarfits_fwd0b_0x1',\n",
    "    'ttbarfits_fwd1b_3x1',\n",
    "    'ttbarfits_fwd2b_3x1',\n",
    "    'ttbarfits_cen0b_0x1',\n",
    "    'ttbarfits_cen1b_3x1',\n",
    "    'ttbarfits_cen2b_3x1',\n",
    "]"
   ]
  },
  {
   "cell_type": "code",
   "execution_count": 21,
   "metadata": {},
   "outputs": [
    {
     "name": "stdout",
     "output_type": "stream",
     "text": [
      "ttbarfits_fwd0b_0x1/ttbar-RSGluon2000_area/rpf_params_QCD_fwd0brpf_fitb.txt\n",
      "['QCD_fwd0brpf_par0: 0.0293929563514 +/- 0.00549420919981', 'QCD_fwd0brpf_par1: 0.680464083908 +/- 0.019224034678', '']\n"
     ]
    },
    {
     "ename": "AttributeError",
     "evalue": "'list' object has no attribute 'split'",
     "output_type": "error",
     "traceback": [
      "\u001b[0;31m---------------------------------------------------------------------------\u001b[0m",
      "\u001b[0;31mAttributeError\u001b[0m                            Traceback (most recent call last)",
      "\u001b[0;32m<ipython-input-21-435588c88fab>\u001b[0m in \u001b[0;36m<module>\u001b[0;34m()\u001b[0m\n\u001b[1;32m      8\u001b[0m             \u001b[0;32mprint\u001b[0m \u001b[0mff\u001b[0m\u001b[0;34m\u001b[0m\u001b[0m\n\u001b[1;32m      9\u001b[0m             params[d] = {\n\u001b[0;32m---> 10\u001b[0;31m                 \u001b[0;34m'param'\u001b[0m\u001b[0;34m:\u001b[0m \u001b[0;34m[\u001b[0m\u001b[0mfloat\u001b[0m\u001b[0;34m(\u001b[0m\u001b[0mparam\u001b[0m\u001b[0;34m.\u001b[0m\u001b[0msplit\u001b[0m\u001b[0;34m(\u001b[0m\u001b[0;34m'+/-'\u001b[0m\u001b[0;34m)\u001b[0m\u001b[0;34m[\u001b[0m\u001b[0;36m0\u001b[0m\u001b[0;34m]\u001b[0m\u001b[0;34m)\u001b[0m \u001b[0;32mfor\u001b[0m \u001b[0mparam\u001b[0m \u001b[0;32min\u001b[0m \u001b[0;34m[\u001b[0m\u001b[0mline\u001b[0m\u001b[0;34m.\u001b[0m\u001b[0msplit\u001b[0m\u001b[0;34m(\u001b[0m\u001b[0;34m':'\u001b[0m\u001b[0;34m)\u001b[0m \u001b[0;32mfor\u001b[0m \u001b[0mline\u001b[0m \u001b[0;32min\u001b[0m \u001b[0mff\u001b[0m\u001b[0;34m]\u001b[0m\u001b[0;34m]\u001b[0m\u001b[0;34m,\u001b[0m\u001b[0;34m\u001b[0m\u001b[0m\n\u001b[0m\u001b[1;32m     11\u001b[0m                 \u001b[0;34m'error'\u001b[0m\u001b[0;34m:\u001b[0m \u001b[0;34m[\u001b[0m\u001b[0mfloat\u001b[0m\u001b[0;34m(\u001b[0m\u001b[0mparam\u001b[0m\u001b[0;34m.\u001b[0m\u001b[0msplit\u001b[0m\u001b[0;34m(\u001b[0m\u001b[0;34m'+/-'\u001b[0m\u001b[0;34m)\u001b[0m\u001b[0;34m[\u001b[0m\u001b[0;36m1\u001b[0m\u001b[0;34m]\u001b[0m\u001b[0;34m)\u001b[0m \u001b[0;32mfor\u001b[0m \u001b[0mparam\u001b[0m \u001b[0;32min\u001b[0m \u001b[0;34m[\u001b[0m\u001b[0mline\u001b[0m\u001b[0;34m.\u001b[0m\u001b[0msplit\u001b[0m\u001b[0;34m(\u001b[0m\u001b[0;34m':'\u001b[0m\u001b[0;34m)\u001b[0m \u001b[0;32mfor\u001b[0m \u001b[0mline\u001b[0m \u001b[0;32min\u001b[0m \u001b[0mff\u001b[0m\u001b[0;34m]\u001b[0m\u001b[0;34m]\u001b[0m\u001b[0;34m,\u001b[0m\u001b[0;34m\u001b[0m\u001b[0m\n\u001b[1;32m     12\u001b[0m             }\n",
      "\u001b[0;31mAttributeError\u001b[0m: 'list' object has no attribute 'split'"
     ]
    }
   ],
   "source": [
    "for d in dirs:\n",
    "    files = os.listdir(d+'/ttbar-RSGluon2000_area')\n",
    "    for f in files:\n",
    "        if 'rpf_fitb' in f:\n",
    "            print d+'/ttbar-RSGluon2000_area/'+f\n",
    "            \n",
    "            ff = open(d+'/ttbar-RSGluon2000_area/'+f).read().split('\\n')\n",
    "            print ff\n",
    "            params[d] = {\n",
    "                'param': [float(param.split('+/-')[0]) for param in [line.split(':') for line in ff]],\n",
    "                'error': [float(param.split('+/-')[1]) for param in [line.split(':') for line in ff]],\n",
    "            }\n",
    "#             del ff\n",
    "            "
   ]
  },
  {
   "cell_type": "code",
   "execution_count": 18,
   "metadata": {},
   "outputs": [
    {
     "data": {
      "text/plain": [
       "['QCD_fwd0brpf_par0: 0.0293929563514 +/- 0.00549420919981',\n",
       " 'QCD_fwd0brpf_par1: 0.680464083908 +/- 0.019224034678',\n",
       " '']"
      ]
     },
     "execution_count": 18,
     "metadata": {},
     "output_type": "execute_result"
    }
   ],
   "source": [
    "ff"
   ]
  },
  {
   "cell_type": "code",
   "execution_count": 20,
   "metadata": {},
   "outputs": [
    {
     "data": {
      "text/plain": [
       "[['QCD_fwd0brpf_par0', ' 0.0293929563514 +/- 0.00549420919981'],\n",
       " ['QCD_fwd0brpf_par1', ' 0.680464083908 +/- 0.019224034678'],\n",
       " ['']]"
      ]
     },
     "execution_count": 20,
     "metadata": {},
     "output_type": "execute_result"
    }
   ],
   "source": [
    "float(param.split('+/-')[ in [line.split(':') for line in ff]"
   ]
  },
  {
   "cell_type": "code",
   "execution_count": null,
   "metadata": {},
   "outputs": [],
   "source": []
  }
 ],
 "metadata": {
  "kernelspec": {
   "display_name": "Python 2",
   "language": "python",
   "name": "python2"
  },
  "language_info": {
   "codemirror_mode": {
    "name": "ipython",
    "version": 2
   },
   "file_extension": ".py",
   "mimetype": "text/x-python",
   "name": "python",
   "nbconvert_exporter": "python",
   "pygments_lexer": "ipython2",
   "version": "2.7.14+"
  }
 },
 "nbformat": 4,
 "nbformat_minor": 2
}
