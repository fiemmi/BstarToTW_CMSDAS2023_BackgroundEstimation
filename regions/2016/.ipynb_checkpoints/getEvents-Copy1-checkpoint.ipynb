{
 "cells": [
  {
   "cell_type": "code",
   "execution_count": 2,
   "metadata": {},
   "outputs": [
    {
     "name": "stdout",
     "output_type": "stream",
     "text": [
      "Welcome to JupyROOT 6.14/09\n"
     ]
    }
   ],
   "source": [
    "from optparse import OptionParser\n",
    "import subprocess\n",
    "import array\n",
    "from  array import array\n",
    "import numpy as np\n",
    "import json\n",
    "\n",
    "import ROOT\n",
    "from ROOT import TGraph, TLatex, TFile, TLine, TLegend, TCanvas, kOrange, kGreen, kTRUE, gStyle, gROOT\n",
    "\n",
    "gStyle.SetOptStat(0)\n",
    "gROOT.SetBatch(kTRUE)\n"
   ]
  },
  {
   "cell_type": "code",
   "execution_count": 3,
   "metadata": {},
   "outputs": [
    {
     "name": "stderr",
     "output_type": "stream",
     "text": [
      "Warning in <TClass::Init>: no dictionary for class RooSTLRefCountList<RooAbsArg> is available\n"
     ]
    }
   ],
   "source": [
    "f1 = '/afs/cern.ch/user/a/acwillia/public/rootFiles/fitDiagnostics_MoreOptions.root'\n",
    "r1 = TFile.Open(f1)"
   ]
  },
  {
   "cell_type": "code",
   "execution_count": null,
   "metadata": {},
   "outputs": [],
   "source": []
  },
  {
   "cell_type": "code",
   "execution_count": 4,
   "metadata": {},
   "outputs": [
    {
     "data": {
      "text/plain": [
       "<ROOT.TFile object (\"/afs/cern.ch/user/a/acwillia/public/rootFiles/fitDiagnostics_MoreOptions.root\") at 0x5ddb430>"
      ]
     },
     "execution_count": 4,
     "metadata": {},
     "output_type": "execute_result"
    }
   ],
   "source": [
    "r1"
   ]
  },
  {
   "cell_type": "code",
   "execution_count": 5,
   "metadata": {
    "scrolled": false
   },
   "outputs": [
    {
     "name": "stdout",
     "output_type": "stream",
     "text": [
      "******************************************************************************\n",
      "*Tree    :tree_fit_b: tree_fit_b                                             *\n",
      "*Entries :        1 : Total =           19926 bytes  File  Size =       5167 *\n",
      "*        :          : Tree compression factor =   1.00                       *\n",
      "******************************************************************************\n",
      "*Br    0 :fit_status : fit_status/I                                          *\n",
      "*Entries :        1 : Total  Size=        592 bytes  File Size  =         87 *\n",
      "*Baskets :        1 : Basket Size=      32000 bytes  Compression=   1.00     *\n",
      "*............................................................................*\n",
      "*Br    1 :r         : r/D                                                    *\n",
      "*Entries :        1 : Total  Size=        559 bytes  File Size  =         82 *\n",
      "*Baskets :        1 : Basket Size=      32000 bytes  Compression=   1.00     *\n",
      "*............................................................................*\n",
      "*Br    2 :rErr      : rErr/D                                                 *\n",
      "*Entries :        1 : Total  Size=        574 bytes  File Size  =         85 *\n",
      "*Baskets :        1 : Basket Size=      32000 bytes  Compression=   1.00     *\n",
      "*............................................................................*\n",
      "*Br    3 :rLoErr    : rLoErr/D                                               *\n",
      "*Entries :        1 : Total  Size=        584 bytes  File Size  =         87 *\n",
      "*Baskets :        1 : Basket Size=      32000 bytes  Compression=   1.00     *\n",
      "*............................................................................*\n",
      "*Br    4 :rHiErr    : rHiErr/D                                               *\n",
      "*Entries :        1 : Total  Size=        584 bytes  File Size  =         87 *\n",
      "*Baskets :        1 : Basket Size=      32000 bytes  Compression=   1.00     *\n",
      "*............................................................................*\n",
      "*Br    5 :numbadnll : numbadnll/I                                            *\n",
      "*Entries :        1 : Total  Size=        587 bytes  File Size  =         86 *\n",
      "*Baskets :        1 : Basket Size=      32000 bytes  Compression=   1.00     *\n",
      "*............................................................................*\n",
      "*Br    6 :nll_min   : nll_min/D                                              *\n",
      "*Entries :        1 : Total  Size=        589 bytes  File Size  =         88 *\n",
      "*Baskets :        1 : Basket Size=      32000 bytes  Compression=   1.00     *\n",
      "*............................................................................*\n",
      "*Br    7 :toptagxs_In : toptagxs_In/D                                        *\n",
      "*Entries :        1 : Total  Size=        609 bytes  File Size  =         92 *\n",
      "*Baskets :        1 : Basket Size=      32000 bytes  Compression=   1.00     *\n",
      "*............................................................................*\n",
      "*Br    8 :q2_In     : q2_In/D                                                *\n",
      "*Entries :        1 : Total  Size=        579 bytes  File Size  =         86 *\n",
      "*Baskets :        1 : Basket Size=      32000 bytes  Compression=   1.00     *\n",
      "*............................................................................*\n",
      "*Br    9 :lumi_In   : lumi_In/D                                              *\n",
      "*Entries :        1 : Total  Size=        589 bytes  File Size  =         88 *\n",
      "*Baskets :        1 : Basket Size=      32000 bytes  Compression=   1.00     *\n",
      "*............................................................................*\n",
      "*Br   10 :toptagsf_In : toptagsf_In/D                                        *\n",
      "*Entries :        1 : Total  Size=        609 bytes  File Size  =         92 *\n",
      "*Baskets :        1 : Basket Size=      32000 bytes  Compression=   1.00     *\n",
      "*............................................................................*\n",
      "*Br   11 :btag_In   : btag_In/D                                              *\n",
      "*Entries :        1 : Total  Size=        589 bytes  File Size  =         88 *\n",
      "*Baskets :        1 : Basket Size=      32000 bytes  Compression=   1.00     *\n",
      "*............................................................................*\n",
      "*Br   12 :jes_In    : jes_In/D                                               *\n",
      "*Entries :        1 : Total  Size=        584 bytes  File Size  =         87 *\n",
      "*Baskets :        1 : Basket Size=      32000 bytes  Compression=   1.00     *\n",
      "*............................................................................*\n",
      "*Br   13 :jer_In    : jer_In/D                                               *\n",
      "*Entries :        1 : Total  Size=        584 bytes  File Size  =         87 *\n",
      "*Baskets :        1 : Basket Size=      32000 bytes  Compression=   1.00     *\n",
      "*............................................................................*\n",
      "*Br   14 :pdf_In    : pdf_In/D                                               *\n",
      "*Entries :        1 : Total  Size=        584 bytes  File Size  =         87 *\n",
      "*Baskets :        1 : Basket Size=      32000 bytes  Compression=   1.00     *\n",
      "*............................................................................*\n",
      "*Br   15 :pileup_In : pileup_In/D                                            *\n",
      "*Entries :        1 : Total  Size=        599 bytes  File Size  =         90 *\n",
      "*Baskets :        1 : Basket Size=      32000 bytes  Compression=   1.00     *\n",
      "*............................................................................*\n",
      "*Br   16 :prefiring_In : prefiring_In/D                                      *\n",
      "*Entries :        1 : Total  Size=        614 bytes  File Size  =         93 *\n",
      "*Baskets :        1 : Basket Size=      32000 bytes  Compression=   1.00     *\n",
      "*............................................................................*\n",
      "*Br   17 :mistag_In : mistag_In/D                                            *\n",
      "*Entries :        1 : Total  Size=        599 bytes  File Size  =         90 *\n",
      "*Baskets :        1 : Basket Size=      32000 bytes  Compression=   1.00     *\n",
      "*............................................................................*\n",
      "*Br   18 :massmod_In : massmod_In/D                                          *\n",
      "*Entries :        1 : Total  Size=        604 bytes  File Size  =         91 *\n",
      "*Baskets :        1 : Basket Size=      32000 bytes  Compression=   1.00     *\n",
      "*............................................................................*\n",
      "*Br   19 :qcdclosure_In : qcdclosure_In/D                                    *\n",
      "*Entries :        1 : Total  Size=        619 bytes  File Size  =         94 *\n",
      "*Baskets :        1 : Basket Size=      32000 bytes  Compression=   1.00     *\n",
      "*............................................................................*\n",
      "*Br   20 :toptagxs  : toptagxs/D                                             *\n",
      "*Entries :        1 : Total  Size=        594 bytes  File Size  =         89 *\n",
      "*Baskets :        1 : Basket Size=      32000 bytes  Compression=   1.00     *\n",
      "*............................................................................*\n",
      "*Br   21 :q2        : q2/D                                                   *\n",
      "*Entries :        1 : Total  Size=        564 bytes  File Size  =         83 *\n",
      "*Baskets :        1 : Basket Size=      32000 bytes  Compression=   1.00     *\n",
      "*............................................................................*\n",
      "*Br   22 :lumi      : lumi/D                                                 *\n",
      "*Entries :        1 : Total  Size=        574 bytes  File Size  =         85 *\n",
      "*Baskets :        1 : Basket Size=      32000 bytes  Compression=   1.00     *\n",
      "*............................................................................*\n",
      "*Br   23 :toptagsf  : toptagsf/D                                             *\n",
      "*Entries :        1 : Total  Size=        594 bytes  File Size  =         89 *\n",
      "*Baskets :        1 : Basket Size=      32000 bytes  Compression=   1.00     *\n",
      "*............................................................................*\n",
      "*Br   24 :btag      : btag/D                                                 *\n",
      "*Entries :        1 : Total  Size=        574 bytes  File Size  =         85 *\n",
      "*Baskets :        1 : Basket Size=      32000 bytes  Compression=   1.00     *\n",
      "*............................................................................*\n",
      "*Br   25 :jes       : jes/D                                                  *\n",
      "*Entries :        1 : Total  Size=        569 bytes  File Size  =         84 *\n",
      "*Baskets :        1 : Basket Size=      32000 bytes  Compression=   1.00     *\n",
      "*............................................................................*\n",
      "*Br   26 :jer       : jer/D                                                  *\n",
      "*Entries :        1 : Total  Size=        569 bytes  File Size  =         84 *\n",
      "*Baskets :        1 : Basket Size=      32000 bytes  Compression=   1.00     *\n",
      "*............................................................................*\n",
      "*Br   27 :pdf       : pdf/D                                                  *\n",
      "*Entries :        1 : Total  Size=        569 bytes  File Size  =         84 *\n",
      "*Baskets :        1 : Basket Size=      32000 bytes  Compression=   1.00     *\n",
      "*............................................................................*\n",
      "*Br   28 :pileup    : pileup/D                                               *\n",
      "*Entries :        1 : Total  Size=        584 bytes  File Size  =         87 *\n",
      "*Baskets :        1 : Basket Size=      32000 bytes  Compression=   1.00     *\n",
      "*............................................................................*\n",
      "*Br   29 :prefiring : prefiring/D                                            *\n",
      "*Entries :        1 : Total  Size=        599 bytes  File Size  =         90 *\n",
      "*Baskets :        1 : Basket Size=      32000 bytes  Compression=   1.00     *\n",
      "*............................................................................*\n",
      "*Br   30 :mistag    : mistag/D                                               *\n",
      "*Entries :        1 : Total  Size=        584 bytes  File Size  =         87 *\n",
      "*Baskets :        1 : Basket Size=      32000 bytes  Compression=   1.00     *\n",
      "*............................................................................*\n",
      "*Br   31 :massmod   : massmod/D                                              *\n",
      "*Entries :        1 : Total  Size=        589 bytes  File Size  =         88 *\n",
      "*Baskets :        1 : Basket Size=      32000 bytes  Compression=   1.00     *\n",
      "*............................................................................*\n",
      "*Br   32 :qcdclosure : qcdclosure/D                                          *\n",
      "*Entries :        1 : Total  Size=        604 bytes  File Size  =         91 *\n",
      "*Baskets :        1 : Basket Size=      32000 bytes  Compression=   1.00     *\n",
      "*............................................................................*\n"
     ]
    }
   ],
   "source": [
    "r1.Get('tree_fit_b;1').Print()"
   ]
  },
  {
   "cell_type": "code",
   "execution_count": 6,
   "metadata": {},
   "outputs": [],
   "source": [
    "c1 = TCanvas()\n",
    "h = r1.Get('shapes_fit_b;1').Get('cen0b;1').Get('total_background;1')\n",
    "h.Draw()"
   ]
  },
  {
   "cell_type": "code",
   "execution_count": 7,
   "metadata": {},
   "outputs": [
    {
     "data": {
      "image/png": "[encoded data removed]",
      "text/plain": [
       "<IPython.core.display.Image object>"
      ]
     },
     "metadata": {},
     "output_type": "display_data"
    }
   ],
   "source": [
    "c1.Draw()"
   ]
  },
  {
   "cell_type": "code",
   "execution_count": 8,
   "metadata": {},
   "outputs": [
    {
     "name": "stdout",
     "output_type": "stream",
     "text": [
      "test\n",
      "cen0b \t3220 \t1229\n",
      "cen1b \t1414 \t478\n",
      "cen2b \t183 \t33\n",
      "fwd0b \t2581 \t901\n",
      "fwd1b \t1100 \t335\n",
      "fwd2b \t134 \t25\n",
      "total \t8634 \t2997\n"
     ]
    }
   ],
   "source": [
    "print 'test'\n",
    "\n",
    "f1 = '/afs/cern.ch/user/a/acwillia/public/rootFiles/fitDiagnostics_MoreOptions.root'\n",
    "r1 = TFile.Open(f1)\n",
    "\n",
    "total = 0\n",
    "total_errors = 0\n",
    "    \n",
    "for cat in ['cen0b', 'cen1b', 'cen2b', 'fwd0b', 'fwd1b', 'fwd2b']:\n",
    "    h = r1.Get('shapes_fit_b;1').Get(cat+';1').Get('bkgest;1')\n",
    "\n",
    "    events = 0\n",
    "    for j in range(h.GetNbinsX()):\n",
    "        events += h.GetBinContent(j)\n",
    "\n",
    "    total += events\n",
    "\n",
    "    errors = 0\n",
    "\n",
    "\n",
    "\n",
    "    for b in range(h.GetNbinsX()):\n",
    "        errors += h.GetBinError(b)\n",
    "\n",
    "    total_errors += errors\n",
    "    print cat, '\\t', int(events), '\\t', int(np.ceil(errors))\n",
    "\n",
    "\n",
    "print 'total', '\\t', int(total), '\\t', int(total_errors)"
   ]
  },
  {
   "cell_type": "code",
   "execution_count": null,
   "metadata": {},
   "outputs": [],
   "source": []
  },
  {
   "cell_type": "code",
   "execution_count": 9,
   "metadata": {},
   "outputs": [],
   "source": [
    "f2 = '../regions_yonly/2016/ttbarfits_inclusive/base.root'"
   ]
  },
  {
   "cell_type": "code",
   "execution_count": 10,
   "metadata": {},
   "outputs": [],
   "source": [
    "r2 = TFile.Open(f2)"
   ]
  },
  {
   "cell_type": "code",
   "execution_count": 11,
   "metadata": {},
   "outputs": [
    {
     "data": {
      "text/plain": [
       "<ROOT.RooWorkspace object (\"w\") at 0x68a7490>"
      ]
     },
     "execution_count": 11,
     "metadata": {},
     "output_type": "execute_result"
    }
   ],
   "source": [
    "r2.Get('w;1')"
   ]
  },
  {
   "cell_type": "code",
   "execution_count": 12,
   "metadata": {},
   "outputs": [
    {
     "data": {
      "image/png": "[encoded data removed]",
      "text/plain": [
       "<IPython.core.display.Image object>"
      ]
     },
     "metadata": {},
     "output_type": "display_data"
    }
   ],
   "source": [
    "r2.Get('w;1').Draw()\n",
    "c1.Draw()"
   ]
  },
  {
   "cell_type": "code",
   "execution_count": 13,
   "metadata": {},
   "outputs": [
    {
     "name": "stdout",
     "output_type": "stream",
     "text": [
      "TDirectoryFile*\t\tfwd2b\tfwd2b\n",
      " KEY: TGraphAsymmErrors\tdata;1\tRSGluon3000 in fwd2b\n",
      " KEY: TH1F\tRSGluon3000;1\tRSGluon3000 in fwd2b\n",
      " KEY: TH1F\tTTbar;1\tTTbar in fwd2b\n",
      " KEY: TH1F\tbkgest;1\tbkgest in fwd2b\n",
      " KEY: TH1F\ttotal;1\tTotal signal+background in fwd2b\n",
      " KEY: TH1F\ttotal_signal;1\tTotal signal in fwd2b\n",
      " KEY: TH1F\ttotal_background;1\tTotal background in fwd2b\n",
      " KEY: TH2F\ttotal_covar;1\tCovariance signal+background\n"
     ]
    }
   ],
   "source": [
    "r1.Get('shapes_fit_b;1').Get(cat+';1').ls()"
   ]
  },
  {
   "cell_type": "code",
   "execution_count": 14,
   "metadata": {},
   "outputs": [
    {
     "data": {
      "text/plain": [
       "<ROOT.TCanvas object (\"c1_n2\") at 0x774c630>"
      ]
     },
     "execution_count": 14,
     "metadata": {},
     "output_type": "execute_result"
    }
   ],
   "source": [
    "c = TCanvas()\n",
    "c.cd()"
   ]
  },
  {
   "cell_type": "code",
   "execution_count": null,
   "metadata": {},
   "outputs": [],
   "source": []
  },
  {
   "cell_type": "code",
   "execution_count": 16,
   "metadata": {},
   "outputs": [],
   "source": [
    "\n",
    "ffwd0b = '/afs/cern.ch/user/m/mmorris/BackgroundEstimation/CMSSW_10_6_14/src/BstarToTW_CMSDAS2023_BackgroundEstimation/regions/2016/ttbarfits_fwd0b_0x0/ttbar-RSGluon2000_area/plots_fit_b/all_plots.root'\n",
    "fcen0b = '/afs/cern.ch/user/m/mmorris/BackgroundEstimation/CMSSW_10_6_14/src/BstarToTW_CMSDAS2023_BackgroundEstimation/regions/2016/ttbarfits_cen0b_0x0/ttbar-RSGluon2000_area/plots_fit_b/all_plots.root'\n",
    "ffwd1b = '/afs/cern.ch/user/m/mmorris/BackgroundEstimation/CMSSW_10_6_14/src/BstarToTW_CMSDAS2023_BackgroundEstimation/regions/2016/ttbarfits_fwd1b_3x1/ttbar-RSGluon2000_area/plots_fit_b/all_plots.root'\n",
    "fcen1b = '/afs/cern.ch/user/m/mmorris/BackgroundEstimation/CMSSW_10_6_14/src/BstarToTW_CMSDAS2023_BackgroundEstimation/regions/2016/ttbarfits_cen1b_3x1/ttbar-RSGluon2000_area/plots_fit_b/all_plots.root'\n",
    "ffwd2b = '/afs/cern.ch/user/m/mmorris/BackgroundEstimation/CMSSW_10_6_14/src/BstarToTW_CMSDAS2023_BackgroundEstimation/regions/2016/ttbarfits_fwd2b_3x1/ttbar-RSGluon2000_area/plots_fit_b/all_plots.root'\n",
    "fcen2b = '/afs/cern.ch/user/m/mmorris/BackgroundEstimation/CMSSW_10_6_14/src/BstarToTW_CMSDAS2023_BackgroundEstimation/regions/2016/ttbarfits_cen2b_3x1/ttbar-RSGluon2000_area/plots_fit_b/all_plots.root'\n",
    "\n",
    "rfwd0b = TFile.Open(ffwd0b)\n",
    "rcen0b = TFile.Open(fcen0b)\n",
    "rfwd1b = TFile.Open(ffwd1b)\n",
    "rcen1b = TFile.Open(fcen1b)\n",
    "rfwd2b = TFile.Open(ffwd2b)\n",
    "rcen2b = TFile.Open(fcen2b)\n",
    "\n",
    "\n",
    "fnames = [\n",
    "    fcen0b,\n",
    "    ffwd0b,\n",
    "    fcen1b,\n",
    "    ffwd1b,\n",
    "    fcen2b,\n",
    "    ffwd2b,\n",
    "]\n",
    "\n"
   ]
  },
  {
   "cell_type": "code",
   "execution_count": 17,
   "metadata": {
    "scrolled": false
   },
   "outputs": [],
   "source": [
    "# rcen0b.ls()"
   ]
  },
  {
   "cell_type": "code",
   "execution_count": 18,
   "metadata": {},
   "outputs": [
    {
     "data": {
      "image/png": "[encoded data removed]",
      "text/plain": [
       "<IPython.core.display.Image object>"
      ]
     },
     "metadata": {},
     "output_type": "display_data"
    }
   ],
   "source": [
    "c = TCanvas()\n",
    "rcen2b.Get('data_obs_cen2bPass_postfit_projy1;1').Draw()\n",
    "c.Draw()"
   ]
  },
  {
   "cell_type": "code",
   "execution_count": 19,
   "metadata": {},
   "outputs": [
    {
     "name": "stdout",
     "output_type": "stream",
     "text": [
      "0 0.0 0.0 0.0\n",
      "1 132.0 11.4891252931 11.489125293076057\n",
      "2 564.0 23.7486841741 23.748684174075834\n",
      "3 708.0 26.6082693913 26.60826939130014\n",
      "4 258.0 16.0623784042 16.06237840420901\n",
      "5 69.9999995232 8.36660026534 8.366600236844285\n",
      "6 39.9999988079 6.32455532034 6.32455522609354\n",
      "7 18.0 4.24264068712 4.242640687119285\n",
      "8 5.99999964237 2.44948974278 2.449489669782694\n",
      "9 0.0 0.0 0.0\n"
     ]
    }
   ],
   "source": [
    "h = rcen2b.Get('data_obs_cen2bPass_postfit_projy1;1')\n",
    "for b in range(h.GetNbinsX()):\n",
    "    print b, h.GetBinContent(b), h.GetBinError(b), np.sqrt(h.GetBinContent(b))"
   ]
  },
  {
   "cell_type": "code",
   "execution_count": 20,
   "metadata": {
    "scrolled": false
   },
   "outputs": [],
   "source": [
    "rfiles = [\n",
    "    rcen0b,\n",
    "    rfwd0b,\n",
    "    rcen1b,\n",
    "    rfwd1b,\n",
    "    rcen2b,\n",
    "    rfwd2b,\n",
    "]\n",
    "\n",
    "labels = [\n",
    "    'cen0b',\n",
    "    'fwd0b',\n",
    "    'cen1b',\n",
    "    'fwd1b',\n",
    "    'cen2b',\n",
    "    'fwd2b',\n",
    "    \n",
    "]"
   ]
  },
  {
   "cell_type": "code",
   "execution_count": 21,
   "metadata": {},
   "outputs": [],
   "source": [
    "# h1 = rfile.Get('TotalBkg_fwd0bPass_postfit_projx0;')\n",
    "# h2 = rfile.Get('TotalBkg_fwd0bPass_postfit_projx1;')\n",
    "# h3 = rfile.Get('TotalBkg_fwd0bPass_postfit_projx2;')"
   ]
  },
  {
   "cell_type": "code",
   "execution_count": 22,
   "metadata": {},
   "outputs": [],
   "source": [
    "# h1.GetEntries() + h2.GetEntries() + h3.GetEntries()"
   ]
  },
  {
   "cell_type": "code",
   "execution_count": 23,
   "metadata": {},
   "outputs": [],
   "source": [
    "c = TCanvas()"
   ]
  },
  {
   "cell_type": "code",
   "execution_count": 24,
   "metadata": {},
   "outputs": [
    {
     "ename": "NameError",
     "evalue": "name 'h1' is not defined",
     "output_type": "error",
     "traceback": [
      "\u001b[0;31m\u001b[0m",
      "\u001b[0;31mNameError\u001b[0mTraceback (most recent call last)",
      "\u001b[0;32m<ipython-input-24-06b1cfa3ed0f>\u001b[0m in \u001b[0;36m<module>\u001b[0;34m()\u001b[0m\n\u001b[0;32m----> 1\u001b[0;31m \u001b[0mh1\u001b[0m\u001b[0;34m.\u001b[0m\u001b[0mDraw\u001b[0m\u001b[0;34m(\u001b[0m\u001b[0;34m\"h\"\u001b[0m\u001b[0;34m)\u001b[0m\u001b[0;34m\u001b[0m\u001b[0m\n\u001b[0m\u001b[1;32m      2\u001b[0m \u001b[0mc\u001b[0m\u001b[0;34m.\u001b[0m\u001b[0mDraw\u001b[0m\u001b[0;34m(\u001b[0m\u001b[0;34m)\u001b[0m\u001b[0;34m\u001b[0m\u001b[0m\n",
      "\u001b[0;31mNameError\u001b[0m: name 'h1' is not defined"
     ]
    }
   ],
   "source": [
    "h1.Draw(\"h\")\n",
    "c.Draw()"
   ]
  },
  {
   "cell_type": "code",
   "execution_count": 25,
   "metadata": {},
   "outputs": [
    {
     "ename": "NameError",
     "evalue": "name 'h1' is not defined",
     "output_type": "error",
     "traceback": [
      "\u001b[0;31m\u001b[0m",
      "\u001b[0;31mNameError\u001b[0mTraceback (most recent call last)",
      "\u001b[0;32m<ipython-input-25-e50691b7e3a6>\u001b[0m in \u001b[0;36m<module>\u001b[0;34m()\u001b[0m\n\u001b[0;32m----> 1\u001b[0;31m \u001b[0mh1\u001b[0m\u001b[0;34m\u001b[0m\u001b[0m\n\u001b[0m",
      "\u001b[0;31mNameError\u001b[0m: name 'h1' is not defined"
     ]
    }
   ],
   "source": [
    "h1"
   ]
  },
  {
   "cell_type": "code",
   "execution_count": 31,
   "metadata": {},
   "outputs": [
    {
     "name": "stdout",
     "output_type": "stream",
     "text": [
      "NTMJ\n",
      "cen0b \t &  12330  \\pm  113\n",
      "fwd0b \t &  15331  \\pm  113\n",
      "cen1b \t &  11841  \\pm  234\n",
      "fwd1b \t &  11577  \\pm  208\n",
      "cen2b \t &  2094  \\pm  122\n",
      "fwd2b \t &  2419  \\pm  121\n",
      "total \t &  55593  \\pm  390\n"
     ]
    }
   ],
   "source": [
    "print 'NTMJ'\n",
    "total = 0\n",
    "total_errors = 0\n",
    "for i in range(len(fnames)):\n",
    "#     print(labels[i])\n",
    "#     print(rfiles[i])\n",
    "#     print(rfiles[i].ls())\n",
    "    \n",
    "    rf = TFile.Open(fnames[i])\n",
    "    \n",
    "\n",
    "    h1 = rf.Get('QCD_'+labels[i]+'Pass_postfit_projy0;')\n",
    "    h2 = rf.Get('QCD_'+labels[i]+'Pass_postfit_projy1;')\n",
    "    h3 = rf.Get('QCD_'+labels[i]+'Pass_postfit_projy2;')\n",
    "    \n",
    "    events = 0\n",
    "    for j in range(h1.GetNbinsX()):\n",
    "        events += h1.GetBinContent(j)\n",
    "    for j in range(h2.GetNbinsX()):\n",
    "        events += h2.GetBinContent(j)\n",
    "    for j in range(h3.GetNbinsX()):\n",
    "        events += h3.GetBinContent(j)\n",
    "    \n",
    "    total += events\n",
    "    \n",
    "    errors = 0\n",
    "    \n",
    "    for b in range(h1.GetNbinsX()):\n",
    "        errors += h1.GetBinError(b)\n",
    "    for b in range(h2.GetNbinsX()):\n",
    "        errors += h2.GetBinError(b)\n",
    "    for b in range(h3.GetNbinsX()):\n",
    "        errors += h3.GetBinError(b)\n",
    "    \n",
    "    total_errors += errors*errors\n",
    "    print labels[i], '\\t & ', int(events), ' \\pm ', int(np.ceil(errors))\n",
    "    \n",
    "    rf.Close()\n",
    "\n",
    "print 'total', '\\t & ', int(total), ' \\pm ', int(np.sqrt(total_errors))"
   ]
  },
  {
   "cell_type": "code",
   "execution_count": 32,
   "metadata": {},
   "outputs": [
    {
     "name": "stdout",
     "output_type": "stream",
     "text": [
      "TTbar\n",
      "cen0b \t &  2522  \\pm  100\n",
      "fwd0b \t &  156  \\pm  26\n",
      "cen1b \t &  2843  \\pm  152\n",
      "fwd1b \t &  1636  \\pm  128\n",
      "cen2b \t &  1630  \\pm  85\n",
      "fwd2b \t &  950  \\pm  72\n",
      "total \t &  9739  \\pm  248\n"
     ]
    }
   ],
   "source": [
    "print 'TTbar'\n",
    "total = 0\n",
    "total_errors = 0\n",
    "for i in range(len(fnames)):\n",
    "#     print(labels[i])\n",
    "#     print(rfiles[i])\n",
    "#     print(rfiles[i].ls())\n",
    "    \n",
    "    rf = TFile.Open(fnames[i])\n",
    "    \n",
    "\n",
    "    h1 = rf.Get('16_TTbar_'+labels[i]+'Pass_postfit_projy0;')\n",
    "    h2 = rf.Get('16_TTbar_'+labels[i]+'Pass_postfit_projy1;')\n",
    "    h3 = rf.Get('16_TTbar_'+labels[i]+'Pass_postfit_projy2;')\n",
    "    \n",
    "    events = 0\n",
    "    for j in range(h1.GetNbinsX()):\n",
    "        events += h1.GetBinContent(j)\n",
    "    for j in range(h2.GetNbinsX()):\n",
    "        events += h2.GetBinContent(j)\n",
    "    for j in range(h3.GetNbinsX()):\n",
    "        events += h3.GetBinContent(j)\n",
    "    \n",
    "    total += events\n",
    "    \n",
    "    errors = 0\n",
    "    \n",
    "    for b in range(h1.GetNbinsX()):\n",
    "        errors += h1.GetBinError(b)\n",
    "    for b in range(h2.GetNbinsX()):\n",
    "        errors += h2.GetBinError(b)\n",
    "    for b in range(h3.GetNbinsX()):\n",
    "        errors += h3.GetBinError(b)\n",
    "    \n",
    "    total_errors += errors*errors\n",
    "    print labels[i], '\\t & ', int(events), ' \\pm ', int(np.ceil(errors))\n",
    "    \n",
    "    rf.Close()\n",
    "\n",
    "print 'total', '\\t & ', int(total), ' \\pm ', int(np.sqrt(total_errors))"
   ]
  },
  {
   "cell_type": "code",
   "execution_count": 35,
   "metadata": {},
   "outputs": [
    {
     "name": "stdout",
     "output_type": "stream",
     "text": [
      "Data\n",
      "cen0b \t &  14775  \\pm  122\n",
      "fwd0b \t &  14845  \\pm  122\n",
      "cen1b \t &  14702  \\pm  122\n",
      "fwd1b \t &  13340  \\pm  116\n",
      "cen2b \t &  3727  \\pm  62\n",
      "fwd2b \t &  3378  \\pm  59\n",
      "total \t &  64770  \\pm  254\n"
     ]
    }
   ],
   "source": [
    "print 'Data'\n",
    "total = 0\n",
    "total_errors = 0\n",
    "for i in range(len(fnames)):\n",
    "#     print(labels[i])\n",
    "#     print(rfiles[i])\n",
    "#     print(rfiles[i].ls())\n",
    "    \n",
    "    rf = TFile.Open(fnames[i])\n",
    "    \n",
    "\n",
    "    h1 = rf.Get('data_obs_'+labels[i]+'Pass_postfit_projy0;')\n",
    "    h2 = rf.Get('data_obs_'+labels[i]+'Pass_postfit_projy1;')\n",
    "    h3 = rf.Get('data_obs_'+labels[i]+'Pass_postfit_projy2;')\n",
    "    \n",
    "    events = 0\n",
    "    for j in range(h1.GetNbinsX()):\n",
    "        events += h1.GetBinContent(j)\n",
    "    for j in range(h2.GetNbinsX()):\n",
    "        events += h2.GetBinContent(j)\n",
    "    for j in range(h3.GetNbinsX()):\n",
    "        events += h3.GetBinContent(j)\n",
    "    \n",
    "    total += events\n",
    "    \n",
    "    errors = 0\n",
    "    \n",
    "    for b in range(h1.GetNbinsX()):\n",
    "        errors += h1.GetBinError(b)*h1.GetBinError(b)\n",
    "    for b in range(h2.GetNbinsX()):\n",
    "        errors += h2.GetBinError(b)*h2.GetBinError(b)\n",
    "    for b in range(h3.GetNbinsX()):\n",
    "        errors += h3.GetBinError(b)*h3.GetBinError(b)\n",
    "    \n",
    "    total_errors += errors\n",
    "    print labels[i], '\\t & ', int(events), ' \\pm ', int(np.ceil(np.sqrt(errors)))\n",
    "    \n",
    "    rf.Close()\n",
    "\n",
    "print 'total', '\\t & ', int(total), ' \\pm ', int(np.sqrt(total_errors))"
   ]
  },
  {
   "cell_type": "code",
   "execution_count": 37,
   "metadata": {},
   "outputs": [
    {
     "name": "stdout",
     "output_type": "stream",
     "text": [
      "TotalBkg\n",
      "cen0b \t &  14852  \\pm  36\n",
      "fwd0b \t &  15488  \\pm  29\n",
      "cen1b \t &  14685  \\pm  54\n",
      "fwd1b \t &  13213  \\pm  45\n",
      "cen2b \t &  3725  \\pm  31\n",
      "fwd2b \t &  3369  \\pm  27\n",
      "total \t &  65333  \\pm  92\n"
     ]
    }
   ],
   "source": [
    "print 'TotalBkg'\n",
    "total = 0\n",
    "total_errors = 0\n",
    "for i in range(len(fnames)):\n",
    "#     print(labels[i])\n",
    "#     print(rfiles[i])\n",
    "#     print(rfiles[i].ls())\n",
    "    \n",
    "    rf = TFile.Open(fnames[i])\n",
    "    \n",
    "\n",
    "    h1 = rf.Get('TotalBkg_'+labels[i]+'Pass_postfit_projy0;')\n",
    "    h2 = rf.Get('TotalBkg_'+labels[i]+'Pass_postfit_projy1;')\n",
    "    h3 = rf.Get('TotalBkg_'+labels[i]+'Pass_postfit_projy2;')\n",
    "    \n",
    "    events = 0\n",
    "    for j in range(h1.GetNbinsX()):\n",
    "        events += h1.GetBinContent(j)\n",
    "    for j in range(h2.GetNbinsX()):\n",
    "        events += h2.GetBinContent(j)\n",
    "    for j in range(h3.GetNbinsX()):\n",
    "        events += h3.GetBinContent(j)\n",
    "    \n",
    "    total += events\n",
    "    \n",
    "    errors = 0\n",
    "    \n",
    "    for b in range(h1.GetNbinsX()):\n",
    "        errors += h1.GetBinError(b)*h1.GetBinError(b)\n",
    "    for b in range(h2.GetNbinsX()):\n",
    "        errors += h2.GetBinError(b)*h2.GetBinError(b)\n",
    "    for b in range(h3.GetNbinsX()):\n",
    "        errors += h3.GetBinError(b)*h3.GetBinError(b)\n",
    "    \n",
    "    total_errors += errors\n",
    "    print labels[i], '\\t & ', int(events), ' \\pm ', int(np.ceil(np.sqrt(errors)))\n",
    "    \n",
    "    rf.Close()\n",
    "\n",
    "print 'total', '\\t & ', int(total), ' \\pm ', int(np.sqrt(total_errors))"
   ]
  },
  {
   "cell_type": "code",
   "execution_count": 52,
   "metadata": {},
   "outputs": [],
   "source": [
    "h = rfwd2b.Get('QCD_fwd2bPass_postfit_2D;1').ProjectionY()"
   ]
  },
  {
   "cell_type": "code",
   "execution_count": 41,
   "metadata": {},
   "outputs": [],
   "source": [
    "h.ProjectionY().Draw(\"h\")"
   ]
  },
  {
   "cell_type": "code",
   "execution_count": 42,
   "metadata": {},
   "outputs": [
    {
     "data": {
      "image/png": "[encoded data removed]",
      "text/plain": [
       "<IPython.core.display.Image object>"
      ]
     },
     "metadata": {},
     "output_type": "display_data"
    }
   ],
   "source": [
    "c.Draw()"
   ]
  },
  {
   "cell_type": "code",
   "execution_count": 58,
   "metadata": {},
   "outputs": [
    {
     "data": {
      "text/plain": [
       "574.1452435873009"
      ]
     },
     "execution_count": 58,
     "metadata": {},
     "output_type": "execute_result"
    }
   ],
   "source": [
    "h.GetBinContent(4)"
   ]
  },
  {
   "cell_type": "code",
   "execution_count": 74,
   "metadata": {},
   "outputs": [
    {
     "name": "stdout",
     "output_type": "stream",
     "text": [
      "0.0\n",
      "13.7062280134\n",
      "206.00057014\n",
      "523.471087568\n",
      "574.145243587\n",
      "438.798913941\n",
      "276.627816699\n",
      "186.390504702\n",
      "124.26350528\n",
      "75.6358137131\n",
      "()\n",
      "2419.03968364\n"
     ]
    }
   ],
   "source": [
    "total = 0\n",
    "for i in range(h.GetNbinsX()):\n",
    "    total += h.GetBinContent(i)\n",
    "    print(h.GetBinContent(i))\n",
    "print()\n",
    "print(total)"
   ]
  },
  {
   "cell_type": "code",
   "execution_count": 75,
   "metadata": {},
   "outputs": [
    {
     "data": {
      "text/plain": [
       "8146.061713600433"
      ]
     },
     "execution_count": 75,
     "metadata": {},
     "output_type": "execute_result"
    }
   ],
   "source": [
    "h.GetEntries()"
   ]
  },
  {
   "cell_type": "code",
   "execution_count": 85,
   "metadata": {},
   "outputs": [
    {
     "name": "stdout",
     "output_type": "stream",
     "text": [
      "TTbar\n",
      "cen0b 8767 100\n",
      "fwd0b 584 26\n",
      "cen1b 4766 152\n",
      "fwd1b 2393 128\n",
      "cen2b 4068 85\n",
      "fwd2b 2356 72\n"
     ]
    }
   ],
   "source": [
    "print 'TTbar'\n",
    "for i in range(len(fnames)):\n",
    "#     print(labels[i])\n",
    "#     print(rfiles[i])\n",
    "#     print(rfiles[i].ls())\n",
    "    \n",
    "    rf = TFile.Open(fnames[i])\n",
    "    \n",
    "\n",
    "    h1 = rf.Get('16_TTbar_'+labels[i]+'Pass_postfit_projy0;')\n",
    "    h2 = rf.Get('16_TTbar_'+labels[i]+'Pass_postfit_projy1;')\n",
    "    h3 = rf.Get('16_TTbar_'+labels[i]+'Pass_postfit_projy2;')\n",
    "    \n",
    "    events = h1.GetEntries() + h2.GetEntries() + h3.GetEntries()\n",
    "    total += events\n",
    "    \n",
    "    errors = 0\n",
    "    \n",
    "    for b in range(h1.GetNbinsX()):\n",
    "        errors += h1.GetBinError(b)\n",
    "    for b in range(h2.GetNbinsX()):\n",
    "        errors += h2.GetBinError(b)\n",
    "    for b in range(h3.GetNbinsX()):\n",
    "        errors += h3.GetBinError(b)\n",
    "    \n",
    "    total_errors += errors\n",
    "    print labels[i], int(events), int(np.ceil(errors))\n",
    "    \n",
    "    rf.Close()"
   ]
  },
  {
   "cell_type": "code",
   "execution_count": 15,
   "metadata": {},
   "outputs": [
    {
     "name": "stdout",
     "output_type": "stream",
     "text": [
      "Data\n",
      "cen0b 14880 514\n",
      "fwd0b 16088 539\n",
      "cen1b 14777 510\n",
      "fwd1b 14071 527\n",
      "cen2b 3744 249\n",
      "fwd2b 3499 263\n"
     ]
    }
   ],
   "source": [
    "print 'Data'\n",
    "for i in range(len(fnames)):\n",
    "#     print(labels[i])\n",
    "#     print(rfiles[i])\n",
    "#     print(rfiles[i].ls())\n",
    "    \n",
    "    rf = TFile.Open(fnames[i])\n",
    "    \n",
    "\n",
    "    h1 = rf.Get('data_obs_'+labels[i]+'Pass_postfit_projy0;')\n",
    "    h2 = rf.Get('data_obs_'+labels[i]+'Pass_postfit_projy1;')\n",
    "    h3 = rf.Get('data_obs_'+labels[i]+'Pass_postfit_projy2;')\n",
    "    \n",
    "    events = h1.GetEntries() + h2.GetEntries() + h3.GetEntries()\n",
    "    total += events\n",
    "    \n",
    "    errors = 0\n",
    "    \n",
    "    for b in range(h1.GetNbinsX()):\n",
    "        errors += h1.GetBinError(b)\n",
    "    for b in range(h2.GetNbinsX()):\n",
    "        errors += h2.GetBinError(b)\n",
    "    for b in range(h3.GetNbinsX()):\n",
    "        errors += h3.GetBinError(b)\n",
    "    \n",
    "    total_errors += errors\n",
    "    print labels[i], int(events), int(np.ceil(errors))\n",
    "    \n",
    "#     rf.Close()"
   ]
  },
  {
   "cell_type": "code",
   "execution_count": 16,
   "metadata": {
    "scrolled": false
   },
   "outputs": [
    {
     "data": {
      "text/plain": [
       "(1499385.7844089933, 5621.218704828069)"
      ]
     },
     "execution_count": 16,
     "metadata": {},
     "output_type": "execute_result"
    }
   ],
   "source": [
    "total, total_errors"
   ]
  },
  {
   "cell_type": "code",
   "execution_count": 12,
   "metadata": {},
   "outputs": [
    {
     "data": {
      "text/plain": [
       "(216715.0, 3896.0)"
      ]
     },
     "execution_count": 12,
     "metadata": {},
     "output_type": "execute_result"
    }
   ],
   "source": [
    "np.ceil(total), np.ceil(total_errors)"
   ]
  },
  {
   "cell_type": "code",
   "execution_count": 13,
   "metadata": {
    "scrolled": false
   },
   "outputs": [
    {
     "name": "stdout",
     "output_type": "stream",
     "text": [
      "TFile**\t\t/afs/cern.ch/user/m/mmorris/BackgroundEstimation/CMSSW_10_6_14/src/BstarToTW_CMSDAS2023_BackgroundEstimation/regions/2016/ttbarfits_fwd2b_3x1/ttbar-RSGluon2000_area/plots_fit_b/all_plots.root\t\n",
      " TFile*\t\t/afs/cern.ch/user/m/mmorris/BackgroundEstimation/CMSSW_10_6_14/src/BstarToTW_CMSDAS2023_BackgroundEstimation/regions/2016/ttbarfits_fwd2b_3x1/ttbar-RSGluon2000_area/plots_fit_b/all_plots.root\t\n",
      "  OBJ: TH1D\tdata_obs_fwd2bPass_postfit_projy0\tData, fwd2bPass, postfit, 25-125 : 0 at: 0x67f2560\n",
      "  OBJ: TH1D\tdata_obs_fwd2bPass_postfit_projy1\tData, fwd2bPass, postfit, 125-225 : 0 at: 0x67ff240\n",
      "  OBJ: TH1D\tdata_obs_fwd2bPass_postfit_projy2\tData, fwd2bPass, postfit, 225-475 : 0 at: 0x67d8440\n",
      "  KEY: TH2F\tdata_obs_fwd2bFail_prefit_2D;1\tData, fwd2bFail, prefit\n",
      "  KEY: TH1D\tdata_obs_fwd2bFail_prefit_projx0;1\tData, fwd2bFail, prefit, 800-1400\n",
      "  KEY: TH1D\tdata_obs_fwd2bFail_prefit_projx1;1\tData, fwd2bFail, prefit, 1400-2300\n",
      "  KEY: TH1D\tdata_obs_fwd2bFail_prefit_projx2;1\tData, fwd2bFail, prefit, 2300-5000\n",
      "  KEY: TH1D\tdata_obs_fwd2bFail_prefit_projy0;1\tData, fwd2bFail, prefit, 25-125\n",
      "  KEY: TH1D\tdata_obs_fwd2bFail_prefit_projy1;1\tData, fwd2bFail, prefit, 125-225\n",
      "  KEY: TH1D\tdata_obs_fwd2bFail_prefit_projy2;1\tData, fwd2bFail, prefit, 225-475\n",
      "  KEY: TH2F\tdata_obs_fwd2bFail_postfit_2D;1\tData, fwd2bFail, postfit\n",
      "  KEY: TH1D\tdata_obs_fwd2bFail_postfit_projx0;1\tData, fwd2bFail, postfit, 800-1400\n",
      "  KEY: TH1D\tdata_obs_fwd2bFail_postfit_projx1;1\tData, fwd2bFail, postfit, 1400-2300\n",
      "  KEY: TH1D\tdata_obs_fwd2bFail_postfit_projx2;1\tData, fwd2bFail, postfit, 2300-5000\n",
      "  KEY: TH1D\tdata_obs_fwd2bFail_postfit_projy0;1\tData, fwd2bFail, postfit, 25-125\n",
      "  KEY: TH1D\tdata_obs_fwd2bFail_postfit_projy1;1\tData, fwd2bFail, postfit, 125-225\n",
      "  KEY: TH1D\tdata_obs_fwd2bFail_postfit_projy2;1\tData, fwd2bFail, postfit, 225-475\n",
      "  KEY: TH2F\t16_signalRSGluon2000_fwd2bFail_prefit_2D;1\tg_{RS} (3 TeV), fwd2bFail, prefit\n",
      "  KEY: TH1D\t16_signalRSGluon2000_fwd2bFail_prefit_projx0;1\tg_{RS} (3 TeV), fwd2bFail, prefit, 800-1400\n",
      "  KEY: TH1D\t16_signalRSGluon2000_fwd2bFail_prefit_projx1;1\tg_{RS} (3 TeV), fwd2bFail, prefit, 1400-2300\n",
      "  KEY: TH1D\t16_signalRSGluon2000_fwd2bFail_prefit_projx2;1\tg_{RS} (3 TeV), fwd2bFail, prefit, 2300-5000\n",
      "  KEY: TH1D\t16_signalRSGluon2000_fwd2bFail_prefit_projy0;1\tg_{RS} (3 TeV), fwd2bFail, prefit, 25-125\n",
      "  KEY: TH1D\t16_signalRSGluon2000_fwd2bFail_prefit_projy1;1\tg_{RS} (3 TeV), fwd2bFail, prefit, 125-225\n",
      "  KEY: TH1D\t16_signalRSGluon2000_fwd2bFail_prefit_projy2;1\tg_{RS} (3 TeV), fwd2bFail, prefit, 225-475\n",
      "  KEY: TH2F\t16_signalRSGluon2000_fwd2bFail_postfit_2D;1\tg_{RS} (3 TeV), fwd2bFail, postfit\n",
      "  KEY: TH1D\t16_signalRSGluon2000_fwd2bFail_postfit_projx0;1\tg_{RS} (3 TeV), fwd2bFail, postfit, 800-1400\n",
      "  KEY: TH1D\t16_signalRSGluon2000_fwd2bFail_postfit_projx1;1\tg_{RS} (3 TeV), fwd2bFail, postfit, 1400-2300\n",
      "  KEY: TH1D\t16_signalRSGluon2000_fwd2bFail_postfit_projx2;1\tg_{RS} (3 TeV), fwd2bFail, postfit, 2300-5000\n",
      "  KEY: TH1D\t16_signalRSGluon2000_fwd2bFail_postfit_projy0;1\tg_{RS} (3 TeV), fwd2bFail, postfit, 25-125\n",
      "  KEY: TH1D\t16_signalRSGluon2000_fwd2bFail_postfit_projy1;1\tg_{RS} (3 TeV), fwd2bFail, postfit, 125-225\n",
      "  KEY: TH1D\t16_signalRSGluon2000_fwd2bFail_postfit_projy2;1\tg_{RS} (3 TeV), fwd2bFail, postfit, 225-475\n",
      "  KEY: TH2F\t16_TTbar_fwd2bFail_prefit_2D;1\tt#bar{t}, fwd2bFail, prefit\n",
      "  KEY: TH1D\t16_TTbar_fwd2bFail_prefit_projx0;1\tt#bar{t}, fwd2bFail, prefit, 800-1400\n",
      "  KEY: TH1D\t16_TTbar_fwd2bFail_prefit_projx1;1\tt#bar{t}, fwd2bFail, prefit, 1400-2300\n",
      "  KEY: TH1D\t16_TTbar_fwd2bFail_prefit_projx2;1\tt#bar{t}, fwd2bFail, prefit, 2300-5000\n",
      "  KEY: TH1D\t16_TTbar_fwd2bFail_prefit_projy0;1\tt#bar{t}, fwd2bFail, prefit, 25-125\n",
      "  KEY: TH1D\t16_TTbar_fwd2bFail_prefit_projy1;1\tt#bar{t}, fwd2bFail, prefit, 125-225\n",
      "  KEY: TH1D\t16_TTbar_fwd2bFail_prefit_projy2;1\tt#bar{t}, fwd2bFail, prefit, 225-475\n",
      "  KEY: TH2F\t16_TTbar_fwd2bFail_postfit_2D;1\tt#bar{t}, fwd2bFail, postfit\n",
      "  KEY: TH1D\t16_TTbar_fwd2bFail_postfit_projx0;1\tt#bar{t}, fwd2bFail, postfit, 800-1400\n",
      "  KEY: TH1D\t16_TTbar_fwd2bFail_postfit_projx1;1\tt#bar{t}, fwd2bFail, postfit, 1400-2300\n",
      "  KEY: TH1D\t16_TTbar_fwd2bFail_postfit_projx2;1\tt#bar{t}, fwd2bFail, postfit, 2300-5000\n",
      "  KEY: TH1D\t16_TTbar_fwd2bFail_postfit_projy0;1\tt#bar{t}, fwd2bFail, postfit, 25-125\n",
      "  KEY: TH1D\t16_TTbar_fwd2bFail_postfit_projy1;1\tt#bar{t}, fwd2bFail, postfit, 125-225\n",
      "  KEY: TH1D\t16_TTbar_fwd2bFail_postfit_projy2;1\tt#bar{t}, fwd2bFail, postfit, 225-475\n",
      "  KEY: TH2F\tQCD_fwd2bFail_prefit_2D;1\tNTMJ, fwd2bFail, prefit\n",
      "  KEY: TH1D\tQCD_fwd2bFail_prefit_projx0;1\tNTMJ, fwd2bFail, prefit, 800-1400\n",
      "  KEY: TH1D\tQCD_fwd2bFail_prefit_projx1;1\tNTMJ, fwd2bFail, prefit, 1400-2300\n",
      "  KEY: TH1D\tQCD_fwd2bFail_prefit_projx2;1\tNTMJ, fwd2bFail, prefit, 2300-5000\n",
      "  KEY: TH1D\tQCD_fwd2bFail_prefit_projy0;1\tNTMJ, fwd2bFail, prefit, 25-125\n",
      "  KEY: TH1D\tQCD_fwd2bFail_prefit_projy1;1\tNTMJ, fwd2bFail, prefit, 125-225\n",
      "  KEY: TH1D\tQCD_fwd2bFail_prefit_projy2;1\tNTMJ, fwd2bFail, prefit, 225-475\n",
      "  KEY: TH2F\tQCD_fwd2bFail_postfit_2D;1\tNTMJ, fwd2bFail, postfit\n",
      "  KEY: TH1D\tQCD_fwd2bFail_postfit_projx0;1\tNTMJ, fwd2bFail, postfit, 800-1400\n",
      "  KEY: TH1D\tQCD_fwd2bFail_postfit_projx1;1\tNTMJ, fwd2bFail, postfit, 1400-2300\n",
      "  KEY: TH1D\tQCD_fwd2bFail_postfit_projx2;1\tNTMJ, fwd2bFail, postfit, 2300-5000\n",
      "  KEY: TH1D\tQCD_fwd2bFail_postfit_projy0;1\tNTMJ, fwd2bFail, postfit, 25-125\n",
      "  KEY: TH1D\tQCD_fwd2bFail_postfit_projy1;1\tNTMJ, fwd2bFail, postfit, 125-225\n",
      "  KEY: TH1D\tQCD_fwd2bFail_postfit_projy2;1\tNTMJ, fwd2bFail, postfit, 225-475\n",
      "  KEY: TH2F\tTotalBkg_fwd2bFail_prefit_2D;1\tTotalBkg, fwd2bFail, prefit\n",
      "  KEY: TH1D\tTotalBkg_fwd2bFail_prefit_projx0;1\tTotalBkg, fwd2bFail, prefit, 800-1400\n",
      "  KEY: TH1D\tTotalBkg_fwd2bFail_prefit_projx1;1\tTotalBkg, fwd2bFail, prefit, 1400-2300\n",
      "  KEY: TH1D\tTotalBkg_fwd2bFail_prefit_projx2;1\tTotalBkg, fwd2bFail, prefit, 2300-5000\n",
      "  KEY: TH1D\tTotalBkg_fwd2bFail_prefit_projy0;1\tTotalBkg, fwd2bFail, prefit, 25-125\n",
      "  KEY: TH1D\tTotalBkg_fwd2bFail_prefit_projy1;1\tTotalBkg, fwd2bFail, prefit, 125-225\n",
      "  KEY: TH1D\tTotalBkg_fwd2bFail_prefit_projy2;1\tTotalBkg, fwd2bFail, prefit, 225-475\n",
      "  KEY: TH2F\tTotalBkg_fwd2bFail_postfit_2D;1\tTotalBkg, fwd2bFail, postfit\n",
      "  KEY: TH1D\tTotalBkg_fwd2bFail_postfit_projx0;1\tTotalBkg, fwd2bFail, postfit, 800-1400\n",
      "  KEY: TH1D\tTotalBkg_fwd2bFail_postfit_projx1;1\tTotalBkg, fwd2bFail, postfit, 1400-2300\n",
      "  KEY: TH1D\tTotalBkg_fwd2bFail_postfit_projx2;1\tTotalBkg, fwd2bFail, postfit, 2300-5000\n",
      "  KEY: TH1D\tTotalBkg_fwd2bFail_postfit_projy0;1\tTotalBkg, fwd2bFail, postfit, 25-125\n",
      "  KEY: TH1D\tTotalBkg_fwd2bFail_postfit_projy1;1\tTotalBkg, fwd2bFail, postfit, 125-225\n",
      "  KEY: TH1D\tTotalBkg_fwd2bFail_postfit_projy2;1\tTotalBkg, fwd2bFail, postfit, 225-475\n",
      "  KEY: TH2F\tdata_obs_fwd2bPass_prefit_2D;1\tData, fwd2bPass, prefit\n",
      "  KEY: TH1D\tdata_obs_fwd2bPass_prefit_projx0;1\tData, fwd2bPass, prefit, 800-1400\n",
      "  KEY: TH1D\tdata_obs_fwd2bPass_prefit_projx1;1\tData, fwd2bPass, prefit, 1400-2300\n",
      "  KEY: TH1D\tdata_obs_fwd2bPass_prefit_projx2;1\tData, fwd2bPass, prefit, 2300-5000\n",
      "  KEY: TH1D\tdata_obs_fwd2bPass_prefit_projy0;1\tData, fwd2bPass, prefit, 25-125\n",
      "  KEY: TH1D\tdata_obs_fwd2bPass_prefit_projy1;1\tData, fwd2bPass, prefit, 125-225\n",
      "  KEY: TH1D\tdata_obs_fwd2bPass_prefit_projy2;1\tData, fwd2bPass, prefit, 225-475\n",
      "  KEY: TH2F\tdata_obs_fwd2bPass_postfit_2D;1\tData, fwd2bPass, postfit\n",
      "  KEY: TH1D\tdata_obs_fwd2bPass_postfit_projx0;1\tData, fwd2bPass, postfit, 800-1400\n",
      "  KEY: TH1D\tdata_obs_fwd2bPass_postfit_projx1;1\tData, fwd2bPass, postfit, 1400-2300\n",
      "  KEY: TH1D\tdata_obs_fwd2bPass_postfit_projx2;1\tData, fwd2bPass, postfit, 2300-5000\n",
      "  KEY: TH1D\tdata_obs_fwd2bPass_postfit_projy0;1\tData, fwd2bPass, postfit, 25-125\n",
      "  KEY: TH1D\tdata_obs_fwd2bPass_postfit_projy1;1\tData, fwd2bPass, postfit, 125-225\n",
      "  KEY: TH1D\tdata_obs_fwd2bPass_postfit_projy2;1\tData, fwd2bPass, postfit, 225-475\n",
      "  KEY: TH2F\t16_signalRSGluon2000_fwd2bPass_prefit_2D;1\tg_{RS} (3 TeV), fwd2bPass, prefit\n",
      "  KEY: TH1D\t16_signalRSGluon2000_fwd2bPass_prefit_projx0;1\tg_{RS} (3 TeV), fwd2bPass, prefit, 800-1400\n",
      "  KEY: TH1D\t16_signalRSGluon2000_fwd2bPass_prefit_projx1;1\tg_{RS} (3 TeV), fwd2bPass, prefit, 1400-2300\n",
      "  KEY: TH1D\t16_signalRSGluon2000_fwd2bPass_prefit_projx2;1\tg_{RS} (3 TeV), fwd2bPass, prefit, 2300-5000\n",
      "  KEY: TH1D\t16_signalRSGluon2000_fwd2bPass_prefit_projy0;1\tg_{RS} (3 TeV), fwd2bPass, prefit, 25-125\n",
      "  KEY: TH1D\t16_signalRSGluon2000_fwd2bPass_prefit_projy1;1\tg_{RS} (3 TeV), fwd2bPass, prefit, 125-225\n",
      "  KEY: TH1D\t16_signalRSGluon2000_fwd2bPass_prefit_projy2;1\tg_{RS} (3 TeV), fwd2bPass, prefit, 225-475\n",
      "  KEY: TH2F\t16_signalRSGluon2000_fwd2bPass_postfit_2D;1\tg_{RS} (3 TeV), fwd2bPass, postfit\n",
      "  KEY: TH1D\t16_signalRSGluon2000_fwd2bPass_postfit_projx0;1\tg_{RS} (3 TeV), fwd2bPass, postfit, 800-1400\n",
      "  KEY: TH1D\t16_signalRSGluon2000_fwd2bPass_postfit_projx1;1\tg_{RS} (3 TeV), fwd2bPass, postfit, 1400-2300\n",
      "  KEY: TH1D\t16_signalRSGluon2000_fwd2bPass_postfit_projx2;1\tg_{RS} (3 TeV), fwd2bPass, postfit, 2300-5000\n",
      "  KEY: TH1D\t16_signalRSGluon2000_fwd2bPass_postfit_projy0;1\tg_{RS} (3 TeV), fwd2bPass, postfit, 25-125\n",
      "  KEY: TH1D\t16_signalRSGluon2000_fwd2bPass_postfit_projy1;1\tg_{RS} (3 TeV), fwd2bPass, postfit, 125-225\n",
      "  KEY: TH1D\t16_signalRSGluon2000_fwd2bPass_postfit_projy2;1\tg_{RS} (3 TeV), fwd2bPass, postfit, 225-475\n",
      "  KEY: TH2F\t16_TTbar_fwd2bPass_prefit_2D;1\tt#bar{t}, fwd2bPass, prefit\n",
      "  KEY: TH1D\t16_TTbar_fwd2bPass_prefit_projx0;1\tt#bar{t}, fwd2bPass, prefit, 800-1400\n",
      "  KEY: TH1D\t16_TTbar_fwd2bPass_prefit_projx1;1\tt#bar{t}, fwd2bPass, prefit, 1400-2300\n",
      "  KEY: TH1D\t16_TTbar_fwd2bPass_prefit_projx2;1\tt#bar{t}, fwd2bPass, prefit, 2300-5000\n",
      "  KEY: TH1D\t16_TTbar_fwd2bPass_prefit_projy0;1\tt#bar{t}, fwd2bPass, prefit, 25-125\n",
      "  KEY: TH1D\t16_TTbar_fwd2bPass_prefit_projy1;1\tt#bar{t}, fwd2bPass, prefit, 125-225\n",
      "  KEY: TH1D\t16_TTbar_fwd2bPass_prefit_projy2;1\tt#bar{t}, fwd2bPass, prefit, 225-475\n",
      "  KEY: TH2F\t16_TTbar_fwd2bPass_postfit_2D;1\tt#bar{t}, fwd2bPass, postfit\n",
      "  KEY: TH1D\t16_TTbar_fwd2bPass_postfit_projx0;1\tt#bar{t}, fwd2bPass, postfit, 800-1400\n",
      "  KEY: TH1D\t16_TTbar_fwd2bPass_postfit_projx1;1\tt#bar{t}, fwd2bPass, postfit, 1400-2300\n",
      "  KEY: TH1D\t16_TTbar_fwd2bPass_postfit_projx2;1\tt#bar{t}, fwd2bPass, postfit, 2300-5000\n",
      "  KEY: TH1D\t16_TTbar_fwd2bPass_postfit_projy0;1\tt#bar{t}, fwd2bPass, postfit, 25-125\n",
      "  KEY: TH1D\t16_TTbar_fwd2bPass_postfit_projy1;1\tt#bar{t}, fwd2bPass, postfit, 125-225\n",
      "  KEY: TH1D\t16_TTbar_fwd2bPass_postfit_projy2;1\tt#bar{t}, fwd2bPass, postfit, 225-475\n",
      "  KEY: TH2F\tQCD_fwd2bPass_prefit_2D;1\tNTMJ, fwd2bPass, prefit\n",
      "  KEY: TH1D\tQCD_fwd2bPass_prefit_projx0;1\tNTMJ, fwd2bPass, prefit, 800-1400\n",
      "  KEY: TH1D\tQCD_fwd2bPass_prefit_projx1;1\tNTMJ, fwd2bPass, prefit, 1400-2300\n",
      "  KEY: TH1D\tQCD_fwd2bPass_prefit_projx2;1\tNTMJ, fwd2bPass, prefit, 2300-5000\n",
      "  KEY: TH1D\tQCD_fwd2bPass_prefit_projy0;1\tNTMJ, fwd2bPass, prefit, 25-125\n",
      "  KEY: TH1D\tQCD_fwd2bPass_prefit_projy1;1\tNTMJ, fwd2bPass, prefit, 125-225\n",
      "  KEY: TH1D\tQCD_fwd2bPass_prefit_projy2;1\tNTMJ, fwd2bPass, prefit, 225-475\n",
      "  KEY: TH2F\tQCD_fwd2bPass_postfit_2D;1\tNTMJ, fwd2bPass, postfit\n",
      "  KEY: TH1D\tQCD_fwd2bPass_postfit_projx0;1\tNTMJ, fwd2bPass, postfit, 800-1400\n",
      "  KEY: TH1D\tQCD_fwd2bPass_postfit_projx1;1\tNTMJ, fwd2bPass, postfit, 1400-2300\n",
      "  KEY: TH1D\tQCD_fwd2bPass_postfit_projx2;1\tNTMJ, fwd2bPass, postfit, 2300-5000\n",
      "  KEY: TH1D\tQCD_fwd2bPass_postfit_projy0;1\tNTMJ, fwd2bPass, postfit, 25-125\n",
      "  KEY: TH1D\tQCD_fwd2bPass_postfit_projy1;1\tNTMJ, fwd2bPass, postfit, 125-225\n",
      "  KEY: TH1D\tQCD_fwd2bPass_postfit_projy2;1\tNTMJ, fwd2bPass, postfit, 225-475\n",
      "  KEY: TH2F\tTotalBkg_fwd2bPass_prefit_2D;1\tTotalBkg, fwd2bPass, prefit\n",
      "  KEY: TH1D\tTotalBkg_fwd2bPass_prefit_projx0;1\tTotalBkg, fwd2bPass, prefit, 800-1400\n",
      "  KEY: TH1D\tTotalBkg_fwd2bPass_prefit_projx1;1\tTotalBkg, fwd2bPass, prefit, 1400-2300\n",
      "  KEY: TH1D\tTotalBkg_fwd2bPass_prefit_projx2;1\tTotalBkg, fwd2bPass, prefit, 2300-5000\n",
      "  KEY: TH1D\tTotalBkg_fwd2bPass_prefit_projy0;1\tTotalBkg, fwd2bPass, prefit, 25-125\n",
      "  KEY: TH1D\tTotalBkg_fwd2bPass_prefit_projy1;1\tTotalBkg, fwd2bPass, prefit, 125-225\n",
      "  KEY: TH1D\tTotalBkg_fwd2bPass_prefit_projy2;1\tTotalBkg, fwd2bPass, prefit, 225-475\n",
      "  KEY: TH2F\tTotalBkg_fwd2bPass_postfit_2D;1\tTotalBkg, fwd2bPass, postfit\n",
      "  KEY: TH1D\tTotalBkg_fwd2bPass_postfit_projx0;1\tTotalBkg, fwd2bPass, postfit, 800-1400\n",
      "  KEY: TH1D\tTotalBkg_fwd2bPass_postfit_projx1;1\tTotalBkg, fwd2bPass, postfit, 1400-2300\n",
      "  KEY: TH1D\tTotalBkg_fwd2bPass_postfit_projx2;1\tTotalBkg, fwd2bPass, postfit, 2300-5000\n",
      "  KEY: TH1D\tTotalBkg_fwd2bPass_postfit_projy0;1\tTotalBkg, fwd2bPass, postfit, 25-125\n",
      "  KEY: TH1D\tTotalBkg_fwd2bPass_postfit_projy1;1\tTotalBkg, fwd2bPass, postfit, 125-225\n",
      "  KEY: TH1D\tTotalBkg_fwd2bPass_postfit_projy2;1\tTotalBkg, fwd2bPass, postfit, 225-475\n"
     ]
    }
   ],
   "source": [
    "rf.ls()"
   ]
  },
  {
   "cell_type": "code",
   "execution_count": null,
   "metadata": {},
   "outputs": [],
   "source": []
  }
 ],
 "metadata": {
  "kernelspec": {
   "display_name": "Python 2",
   "language": "python",
   "name": "python2"
  },
  "language_info": {
   "codemirror_mode": {
    "name": "ipython",
    "version": 2
   },
   "file_extension": ".py",
   "mimetype": "text/x-python",
   "name": "python",
   "nbconvert_exporter": "python",
   "pygments_lexer": "ipython2",
   "version": "2.7.14+"
  }
 },
 "nbformat": 4,
 "nbformat_minor": 2
}
